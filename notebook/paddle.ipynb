{
 "cells": [
  {
   "cell_type": "code",
   "execution_count": 1,
   "id": "b0d18545-2f6d-4181-92f0-dd274298f91d",
   "metadata": {
    "execution": {
     "iopub.execute_input": "2025-05-26T09:56:43.015527Z",
     "iopub.status.busy": "2025-05-26T09:56:43.014852Z",
     "iopub.status.idle": "2025-05-26T09:56:43.023816Z",
     "shell.execute_reply": "2025-05-26T09:56:43.021819Z",
     "shell.execute_reply.started": "2025-05-26T09:56:43.015461Z"
    }
   },
   "outputs": [],
   "source": [
    "# 使用paddle ocr"
   ]
  },
  {
   "cell_type": "code",
   "execution_count": 2,
   "id": "18cfa3be-28bd-46bf-b530-76fe4e1b7f74",
   "metadata": {
    "execution": {
     "iopub.execute_input": "2025-05-26T09:56:43.284320Z",
     "iopub.status.busy": "2025-05-26T09:56:43.283553Z",
     "iopub.status.idle": "2025-05-26T09:56:43.290948Z",
     "shell.execute_reply": "2025-05-26T09:56:43.289106Z",
     "shell.execute_reply.started": "2025-05-26T09:56:43.284258Z"
    },
    "scrolled": true
   },
   "outputs": [],
   "source": [
    "# %pip install paddlepaddle-gpu"
   ]
  },
  {
   "cell_type": "code",
   "execution_count": 3,
   "id": "bb620c42-600b-45ae-be09-32fbe1ccb5e3",
   "metadata": {
    "execution": {
     "iopub.execute_input": "2025-05-26T09:56:43.504034Z",
     "iopub.status.busy": "2025-05-26T09:56:43.503405Z",
     "iopub.status.idle": "2025-05-26T09:56:43.511101Z",
     "shell.execute_reply": "2025-05-26T09:56:43.508986Z",
     "shell.execute_reply.started": "2025-05-26T09:56:43.503978Z"
    },
    "scrolled": true
   },
   "outputs": [],
   "source": [
    "# %pip install paddleocr==3.0.0"
   ]
  },
  {
   "cell_type": "code",
   "execution_count": 4,
   "id": "c3e68903-4081-4114-9fd5-ba1c12d7e6bb",
   "metadata": {
    "execution": {
     "iopub.execute_input": "2025-05-26T09:56:43.735754Z",
     "iopub.status.busy": "2025-05-26T09:56:43.735137Z",
     "iopub.status.idle": "2025-05-26T09:56:59.686576Z",
     "shell.execute_reply": "2025-05-26T09:56:59.685283Z",
     "shell.execute_reply.started": "2025-05-26T09:56:43.735698Z"
    }
   },
   "outputs": [
    {
     "name": "stderr",
     "output_type": "stream",
     "text": [
      "\u001b[32mCreating model: ('PP-OCRv5_mobile_det', None)\u001b[0m\n",
      "\u001b[32mUsing official model (PP-OCRv5_mobile_det), the model files will be automatically downloaded and saved in /home/lawbda/.paddlex/official_models.\u001b[0m\n",
      "/home/lawbda/envs/anaconda3/lib/python3.12/site-packages/paddle/utils/cpp_extension/extension_utils.py:711: UserWarning: No ccache found. Please be aware that recompiling all source files may be required. You can download and install ccache from: https://github.com/ccache/ccache/blob/master/doc/INSTALL.md\n",
      "  warnings.warn(warning_message)\n",
      "E0526 17:56:47.378401 3145752 analysis_config.cc:169] Please use PaddlePaddle with GPU version.\n",
      "\u001b[32mCreating model: ('PP-OCRv5_mobile_rec', None)\u001b[0m\n",
      "\u001b[32mUsing official model (PP-OCRv5_mobile_rec), the model files will be automatically downloaded and saved in /home/lawbda/.paddlex/official_models.\u001b[0m\n"
     ]
    },
    {
     "name": "stdout",
     "output_type": "stream",
     "text": [
      "Connecting to https://paddle-model-ecology.bj.bcebos.com/paddlex/official_inference_model/paddle3.0.0/PP-OCRv5_mobile_rec_infer.tar ...\n",
      "Downloading PP-OCRv5_mobile_rec_infer.tar ...\n",
      "[==================================================] 100.00%\n",
      "Extracting PP-OCRv5_mobile_rec_infer.tar\n",
      "[==================================================] 100.00%\n"
     ]
    },
    {
     "name": "stderr",
     "output_type": "stream",
     "text": [
      "E0526 17:56:59.365492 3145752 analysis_config.cc:169] Please use PaddlePaddle with GPU version.\n"
     ]
    }
   ],
   "source": [
    "from paddleocr import PaddleOCR\n",
    "# 初始化 PaddleOCR 实例\n",
    "ocr = PaddleOCR(\n",
    "    use_doc_orientation_classify=False,\n",
    "    use_doc_unwarping=False,\n",
    "    use_textline_orientation=False,\n",
    "    enable_mkldnn=False)"
   ]
  },
  {
   "cell_type": "code",
   "execution_count": 16,
   "id": "15d3ce70-becd-4c06-b22e-588006c60cbb",
   "metadata": {
    "execution": {
     "iopub.execute_input": "2025-05-26T10:06:00.972327Z",
     "iopub.status.busy": "2025-05-26T10:06:00.971563Z",
     "iopub.status.idle": "2025-05-26T10:06:00.980806Z",
     "shell.execute_reply": "2025-05-26T10:06:00.978923Z",
     "shell.execute_reply.started": "2025-05-26T10:06:00.972264Z"
    }
   },
   "outputs": [],
   "source": [
    "def ocr_main(img_fpath):\n",
    "    # 对示例图像执行 OCR 推理 \n",
    "    result = ocr.predict(\n",
    "        input=img_fpath)\n",
    "    return result[0]['rec_texts']"
   ]
  },
  {
   "cell_type": "code",
   "execution_count": 17,
   "id": "a2cad482-1074-448b-a4de-9b76e35e23b8",
   "metadata": {
    "execution": {
     "iopub.execute_input": "2025-05-26T10:06:52.042352Z",
     "iopub.status.busy": "2025-05-26T10:06:52.041628Z",
     "iopub.status.idle": "2025-05-26T10:06:57.422806Z",
     "shell.execute_reply": "2025-05-26T10:06:57.422137Z",
     "shell.execute_reply.started": "2025-05-26T10:06:52.042294Z"
    }
   },
   "outputs": [
    {
     "data": {
      "text/plain": [
       "['天赋',\n",
       " '请',\n",
       " '查价',\n",
       " '总览',\n",
       " '神性一角',\n",
       " '神格石板',\n",
       " '等级.89',\n",
       " '',\n",
       " '固定天赋点',\n",
       " '征战之神',\n",
       " '+10% 冷却回复速度',\n",
       " '+1 充能点数上限（神格生效上',\n",
       " '限：1)',\n",
       " '+15%',\n",
       " '斩击几率',\n",
       " '神行武士',\n",
       " '物品描述',\n",
       " '（该神格石板生效上限：3）',\n",
       " '这是神明缺损的一角。渐渐不完整',\n",
       " '的神明似乎在暗示万界的终局。',\n",
       " '驭影者',\n",
       " '',\n",
       " '卸载',\n",
       " '新神的造像',\n",
       " '调整',\n",
       " '键卸载']"
      ]
     },
     "execution_count": 17,
     "metadata": {},
     "output_type": "execute_result"
    }
   ],
   "source": [
    "ocr_main('../data/sample/三角板.png')"
   ]
  },
  {
   "cell_type": "code",
   "execution_count": 18,
   "id": "d594974e-fba6-4322-aecc-fee04e58b174",
   "metadata": {
    "execution": {
     "iopub.execute_input": "2025-05-26T10:06:57.424636Z",
     "iopub.status.busy": "2025-05-26T10:06:57.424432Z",
     "iopub.status.idle": "2025-05-26T10:07:02.896130Z",
     "shell.execute_reply": "2025-05-26T10:07:02.895335Z",
     "shell.execute_reply.started": "2025-05-26T10:06:57.424619Z"
    }
   },
   "outputs": [
    {
     "data": {
      "text/plain": [
       "['天',\n",
       " 'IENH',\n",
       " '请选择要放入的神格石板',\n",
       " '查价',\n",
       " '全部',\n",
       " '神之谱系',\n",
       " '神格石板',\n",
       " '等级.85',\n",
       " '固定天赋点',\n",
       " '+12%1',\n",
       " '创伤几率',\n",
       " '+15%',\n",
       " '创伤伤害',\n",
       " '召唤物+20%创伤几率',\n",
       " '+9% 召唤物伤害',\n",
       " '混入',\n",
       " '神',\n",
       " '全面防御',\n",
       " '物品描述',\n",
       " '（该神格石板生效上限：1）',\n",
       " '这里记述了每一个神明的起源与终',\n",
       " '结。在众神远去的时日，人们从这',\n",
       " '里得知众袖旧日的事迹',\n",
       " '三',\n",
       " '卸载',\n",
       " '新神的延',\n",
       " '调整',\n",
       " '键卸载',\n",
       " '1']"
      ]
     },
     "execution_count": 18,
     "metadata": {},
     "output_type": "execute_result"
    }
   ],
   "source": [
    "ocr_main('../data/sample/大板子.png')"
   ]
  },
  {
   "cell_type": "code",
   "execution_count": 19,
   "id": "0992ba27-d87c-4ea3-9845-e970dc18ebd1",
   "metadata": {
    "execution": {
     "iopub.execute_input": "2025-05-26T10:07:02.897556Z",
     "iopub.status.busy": "2025-05-26T10:07:02.897333Z",
     "iopub.status.idle": "2025-05-26T10:07:08.215796Z",
     "shell.execute_reply": "2025-05-26T10:07:08.215168Z",
     "shell.execute_reply.started": "2025-05-26T10:07:02.897537Z"
    }
   },
   "outputs": [
    {
     "data": {
      "text/plain": [
       "['天赋',\n",
       " '请',\n",
       " 'B',\n",
       " '通る',\n",
       " '查价',\n",
       " '总览',\n",
       " '征战之神的神格',\n",
       " '神格石板',\n",
       " '等级.89',\n",
       " '神格孔位',\n",
       " '征战之神',\n",
       " '固定天赋点',\n",
       " '+15%车',\n",
       " '斩击几率',\n",
       " '+1物理技能等级',\n",
       " '烙印天赋点',\n",
       " '神行武士',\n",
       " '□',\n",
       " '+25%',\n",
       " '战意效果',\n",
       " '暴击时，获得3点战意值',\n",
       " '□',\n",
       " '□',\n",
       " '驭影者',\n",
       " '+4% 攻击格挡率',\n",
       " '',\n",
       " '+4% 法术格挡率',\n",
       " '如果最近格挡过，',\n",
       " '+50%伤害',\n",
       " '口E',\n",
       " '卸载',\n",
       " '新神的造像',\n",
       " '调整',\n",
       " '键卸载']"
      ]
     },
     "execution_count": 19,
     "metadata": {},
     "output_type": "execute_result"
    }
   ],
   "source": [
    "ocr_main('../data/sample/打造板.png')"
   ]
  },
  {
   "cell_type": "code",
   "execution_count": 20,
   "id": "da9273cf-d58c-45cf-80b9-a11b4a4330be",
   "metadata": {
    "execution": {
     "iopub.execute_input": "2025-05-26T10:07:08.217925Z",
     "iopub.status.busy": "2025-05-26T10:07:08.217568Z",
     "iopub.status.idle": "2025-05-26T10:07:12.782258Z",
     "shell.execute_reply": "2025-05-26T10:07:12.781554Z",
     "shell.execute_reply.started": "2025-05-26T10:07:08.217906Z"
    }
   },
   "outputs": [
    {
     "data": {
      "text/plain": [
       "['英雄特性',\n",
       " '已装备',\n",
       " '查价',\n",
       " '本源的追忆',\n",
       " 'E',\n",
       " '英雄追忆',\n",
       " '等级.87',\n",
       " '可安装位置1',\n",
       " '40',\n",
       " '强化等级40/40',\n",
       " '特性等级+2',\n",
       " '+90 力量',\n",
       " '+16%法术格挡率',\n",
       " '+15% 攻击格挡率',\n",
       " '+51% 攻击伤害',\n",
       " '+21%攻击格挡率',\n",
       " 'GE',\n",
       " '卸载',\n",
       " '',\n",
       " '40',\n",
       " '']"
      ]
     },
     "execution_count": 20,
     "metadata": {},
     "output_type": "execute_result"
    }
   ],
   "source": [
    "ocr_main('../data/sample/追忆.png')"
   ]
  },
  {
   "cell_type": "code",
   "execution_count": 21,
   "id": "acb28cc4-0d15-4712-ab20-364a64dad11f",
   "metadata": {
    "execution": {
     "iopub.execute_input": "2025-05-26T10:07:12.783637Z",
     "iopub.status.busy": "2025-05-26T10:07:12.783429Z",
     "iopub.status.idle": "2025-05-26T10:07:18.468164Z",
     "shell.execute_reply": "2025-05-26T10:07:18.467535Z",
     "shell.execute_reply.started": "2025-05-26T10:07:12.783620Z"
    }
   },
   "outputs": [
    {
     "data": {
      "text/plain": [
       "['背包',\n",
       " 'COE',\n",
       " '已装备',\n",
       " '查价',\n",
       " '☆3/3',\n",
       " '：',\n",
       " '装备栏',\n",
       " '破晓',\n",
       " '推荐',\n",
       " '需求等级58',\n",
       " '腰带(腰部)',\n",
       " '等级.90',\n",
       " '公',\n",
       " '已侵蚀',\n",
       " '日',\n",
       " '+35 最大生命',\n",
       " 'T',\n",
       " '天降神兵',\n",
       " '（特性等级4）',\n",
       " '+876 点护甲和闪避值',\n",
       " '+122力量',\n",
       " '拥有战意',\n",
       " '固定拥有76点战意值',\n",
       " '每2点战意值，容',\n",
       " '额外+1%伤',\n",
       " '害',\n",
       " '如破晓晨光，',\n",
       " '光热未至而骄盛夺',\n",
       " '日',\n",
       " '卸载',\n",
       " 'K',\n",
       " '',\n",
       " '0',\n",
       " 'JE',\n",
       " '鉴定所有',\n",
       " '回收',\n",
       " '副',\n",
       " '时装']"
      ]
     },
     "execution_count": 21,
     "metadata": {},
     "output_type": "execute_result"
    }
   ],
   "source": [
    "ocr_main('../data/sample/腰带.png')"
   ]
  },
  {
   "cell_type": "code",
   "execution_count": 22,
   "id": "7436a76f-6757-437f-b023-e0c503254987",
   "metadata": {
    "execution": {
     "iopub.execute_input": "2025-05-26T10:07:18.469391Z",
     "iopub.status.busy": "2025-05-26T10:07:18.469183Z",
     "iopub.status.idle": "2025-05-26T10:07:24.073256Z",
     "shell.execute_reply": "2025-05-26T10:07:24.072572Z",
     "shell.execute_reply.started": "2025-05-26T10:07:18.469374Z"
    }
   },
   "outputs": [
    {
     "data": {
      "text/plain": [
       "['V',\n",
       " '技能',\n",
       " 'Cr',\n",
       " '请选择要放入的魂烛',\n",
       " '量',\n",
       " '1',\n",
       " '魂烛',\n",
       " '/526',\n",
       " '魂烛',\n",
       " '等级.86',\n",
       " 'E',\n",
       " '词缀',\n",
       " 'TO',\n",
       " '+20%斩击几率',\n",
       " '周围没有劲敌时，每秒统御',\n",
       " '魂烛',\n",
       " '值减少5点',\n",
       " 'TO',\n",
       " '静止时，每1秒获得一层坚',\n",
       " '韧祝福、',\n",
       " '灵动祝福和聚能祝',\n",
       " '福',\n",
       " '最近每使用一次技能，额外',\n",
       " '-2% 技能范围，最多叠加',\n",
       " '50层',\n",
       " '物品描述',\n",
       " '永不熄灭的诡异蜡烛，',\n",
       " '相传能够滋',\n",
       " '养持有者的异魂，使其与技能组件',\n",
       " '卸载',\n",
       " 'マ江',\n",
       " '',\n",
       " '每秒伤害130519']"
      ]
     },
     "execution_count": 22,
     "metadata": {},
     "output_type": "execute_result"
    }
   ],
   "source": [
    "ocr_main('../data/sample/魂烛1.png')"
   ]
  },
  {
   "cell_type": "code",
   "execution_count": null,
   "id": "95717c64-09fc-42b6-8cb7-099888724aa6",
   "metadata": {},
   "outputs": [],
   "source": []
  },
  {
   "cell_type": "code",
   "execution_count": null,
   "id": "4542e4be-500a-4c37-be5e-083dbb463f17",
   "metadata": {},
   "outputs": [],
   "source": []
  },
  {
   "cell_type": "code",
   "execution_count": null,
   "id": "1140ec02-71aa-4ed6-9fad-6e512f7f6be2",
   "metadata": {},
   "outputs": [],
   "source": []
  },
  {
   "cell_type": "code",
   "execution_count": null,
   "id": "91e2a754-849b-4ebf-8257-773ba6ac510b",
   "metadata": {},
   "outputs": [],
   "source": []
  },
  {
   "cell_type": "code",
   "execution_count": null,
   "id": "438a9eff-f627-4154-9b3f-ea15e1c2e73a",
   "metadata": {},
   "outputs": [],
   "source": []
  }
 ],
 "metadata": {
  "kernelspec": {
   "display_name": "Python 3 (ipykernel)",
   "language": "python",
   "name": "python3"
  },
  "language_info": {
   "codemirror_mode": {
    "name": "ipython",
    "version": 3
   },
   "file_extension": ".py",
   "mimetype": "text/x-python",
   "name": "python",
   "nbconvert_exporter": "python",
   "pygments_lexer": "ipython3",
   "version": "3.12.4"
  }
 },
 "nbformat": 4,
 "nbformat_minor": 5
}
